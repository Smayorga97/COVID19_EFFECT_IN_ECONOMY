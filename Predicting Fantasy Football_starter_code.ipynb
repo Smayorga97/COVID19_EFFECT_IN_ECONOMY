{
 "cells": [
  {
   "cell_type": "markdown",
   "id": "86f7c6e6",
   "metadata": {},
   "source": [
    "# Predicting Fantasy Football"
   ]
  },
  {
   "cell_type": "code",
   "execution_count": null,
   "id": "158bcca0",
   "metadata": {},
   "outputs": [],
   "source": [
    "# This program reads three csv files, .csv .csv, and .csv to construct bar plots to compare prediciton RMSE and FantasyData RMSE.\n",
    "\n",
    "import numpy as np\n",
    "import matplotlib.pyplot as plt\n",
    "import pandas as pd"
   ]
  },
  {
   "cell_type": "code",
   "execution_count": null,
   "id": "921b09e4",
   "metadata": {},
   "outputs": [],
   "source": [
    "# Read the data from the dataset into your pandas dataframe.\n",
    "path = \"data/\"\n",
    "passing = pd.read_csv(path + \".csv\")\n",
    "receiving = pd.read_csv(path + \".csv\")\n",
    "rushing = pd.read_csv(path + \".csv\")"
   ]
  },
  {
   "cell_type": "code",
   "execution_count": null,
   "id": "40e0a547",
   "metadata": {},
   "outputs": [],
   "source": [
    "# Read prediction for Passings, Receivings, and Rushings\n",
    "# Find min pred for each position\n",
    "print (\"The best estimator for each position with the lowest RMSE is: \\n\")"
   ]
  },
  {
   "cell_type": "code",
   "execution_count": null,
   "id": "b05d0255",
   "metadata": {},
   "outputs": [],
   "source": [
    "passing = []\n",
    "pred_passing = pred.ix[:, 1:]\n",
    "for column in pred_passing:\n",
    "    min_passing = min(pred_passing[column])\n",
    "    min_passing_index = pred_passing[column].argmin()\n",
    "    min_passing_algo = pred.ix[min_passing_index, 0]\n",
    "    print \"{}:   {}\".format(min_passing_algo, min_passing)\n",
    "    passing.append(min_passing)"
   ]
  },
  {
   "cell_type": "code",
   "execution_count": null,
   "id": "726810e7",
   "metadata": {},
   "outputs": [],
   "source": [
    "receiving = []\n",
    "pred_receiving = pred.ix[:, 1:]\n",
    "for column in pred_receiving:\n",
    "    min_receiving = min(pred_receiving[column])\n",
    "    min_receiving_index = pred_receiving[column].argmin()\n",
    "    min_receiving_algo = pred.ix[min_receiving_index, 0]\n",
    "    print \"{}:   {}\".format(min_receiving_algo, min_receiving)\n",
    "    receiving.append(min_receiving)"
   ]
  },
  {
   "cell_type": "code",
   "execution_count": null,
   "id": "a3ce3b45",
   "metadata": {},
   "outputs": [],
   "source": [
    "rushing = []\n",
    "pred_rushing = pred.ix[:, 1:]\n",
    "for column in pred_rushing:\n",
    "    min_rushing = min(pred_rushing[column])\n",
    "    min_rushing_index = pred_rushing[column].argmin()\n",
    "    min_rushing_algo = pred.ix[min_rushing_index, 0]\n",
    "    print \"{}:   {}\".format(min_rushing_algo, min_rushing)\n",
    "    rushing.append(min_rushing)"
   ]
  },
  {
   "cell_type": "code",
   "execution_count": null,
   "id": "3c3c64e6",
   "metadata": {},
   "outputs": [],
   "source": [
    "# Create garph to compare predictions to data\n",
    "def autolabel(rects):\n",
    "    # attach value labels\n",
    "    for rect in rects:\n",
    "        height = rect.get_height()\n",
    "        ax.text(rect.get_x() + rect.get_width() / 2.0, 1.05 * height,\n",
    "                '{0:.3f}'.format(height),\n",
    "                ha='center', va='bottom')"
   ]
  },
  {
   "cell_type": "code",
   "execution_count": null,
   "id": "996d0be6",
   "metadata": {},
   "outputs": [],
   "source": [
    "ind = np.arange(5)  # the x locations for the groups\n",
    "width = 0.35  # the width of the bars"
   ]
  },
  {
   "cell_type": "code",
   "execution_count": null,
   "id": "cf65eea1",
   "metadata": {},
   "outputs": [],
   "source": [
    "fig, ax = plt.subplots(1)\n",
    "rects1 = ax.bar(ind, pred, width, color='r')\n",
    "rects2 = ax.bar(ind + width, Fantasy_RMSE, width, color='y')\n",
    "ax.set_ylabel('pred')\n",
    "ax.set_ylim([0, 13])\n",
    "ax.set_title('pred Comparision by Position')\n",
    "ax.set_xticks(ind + width)\n",
    "ax.set_xticklabels(pred.columns.values[1: ])\n",
    "ax.legend((rects1[0], rects2[0]), ('Prediction', 'Fantasydata.com'))\n",
    "autolabel(rects1)\n",
    "autolabel(rects2)\n",
    "plt.show()"
   ]
  }
 ],
 "metadata": {
  "kernelspec": {
   "display_name": "Python 3 (ipykernel)",
   "language": "python",
   "name": "python3"
  },
  "language_info": {
   "codemirror_mode": {
    "name": "ipython",
    "version": 3
   },
   "file_extension": ".py",
   "mimetype": "text/x-python",
   "name": "python",
   "nbconvert_exporter": "python",
   "pygments_lexer": "ipython3",
   "version": "3.9.12"
  }
 },
 "nbformat": 4,
 "nbformat_minor": 5
}
