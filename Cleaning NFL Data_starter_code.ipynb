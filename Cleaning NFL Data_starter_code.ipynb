{
 "cells": [
  {
   "cell_type": "markdown",
   "id": "1aa4d7b8",
   "metadata": {},
   "source": [
    "# Cleaning NFL Stats "
   ]
  },
  {
   "cell_type": "code",
   "execution_count": null,
   "id": "1c4a2c0a",
   "metadata": {},
   "outputs": [],
   "source": [
    "# import libraries\n",
    "import pandas as pd\n",
    "import numpy as np\n",
    "import seaborn as sns\n",
    "import matplotlib.pyplot as plt\n",
    "%matplotlib inline"
   ]
  },
  {
   "cell_type": "code",
   "execution_count": null,
   "id": "e897e4ee",
   "metadata": {},
   "outputs": [],
   "source": [
    "# Read the data from the dataset into your pandas dataframe.\n",
    "data = pd.read_csv('.csv')\n",
    "print (data)"
   ]
  },
  {
   "cell_type": "code",
   "execution_count": null,
   "id": "a32a1206",
   "metadata": {},
   "outputs": [],
   "source": [
    "# Display a preview of the data.\n",
    "data.head()"
   ]
  },
  {
   "cell_type": "code",
   "execution_count": null,
   "id": "6dd43fed",
   "metadata": {},
   "outputs": [],
   "source": [
    "# Size of original dataset\n",
    "print(data.shape)"
   ]
  },
  {
   "cell_type": "code",
   "execution_count": null,
   "id": "1c66468a",
   "metadata": {},
   "outputs": [],
   "source": [
    "# dropping the missing rows.\n",
    "data_dropped = df.dropna(how = 'any')"
   ]
  },
  {
   "cell_type": "code",
   "execution_count": null,
   "id": "f38c7c5a",
   "metadata": {},
   "outputs": [],
   "source": [
    "# creating a copy of dataframe\n",
    "data_new = df"
   ]
  },
  {
   "cell_type": "code",
   "execution_count": null,
   "id": "d8a41870",
   "metadata": {},
   "outputs": [],
   "source": [
    "# printing the dataframes after replacing null values\n",
    "print(df_new.isna().sum())\n",
    "print(df.isna().sum())"
   ]
  },
  {
   "cell_type": "code",
   "execution_count": null,
   "id": "929ef461",
   "metadata": {},
   "outputs": [],
   "source": [
    "# drop function which is used in removing or deleting rows or columns from the CSV files\n",
    "data.drop('', inplace=True, axis=1)"
   ]
  },
  {
   "cell_type": "code",
   "execution_count": null,
   "id": "a5bca207",
   "metadata": {},
   "outputs": [],
   "source": [
    "print (df)"
   ]
  }
 ],
 "metadata": {
  "kernelspec": {
   "display_name": "Python 3 (ipykernel)",
   "language": "python",
   "name": "python3"
  },
  "language_info": {
   "codemirror_mode": {
    "name": "ipython",
    "version": 3
   },
   "file_extension": ".py",
   "mimetype": "text/x-python",
   "name": "python",
   "nbconvert_exporter": "python",
   "pygments_lexer": "ipython3",
   "version": "3.9.12"
  }
 },
 "nbformat": 4,
 "nbformat_minor": 5
}
