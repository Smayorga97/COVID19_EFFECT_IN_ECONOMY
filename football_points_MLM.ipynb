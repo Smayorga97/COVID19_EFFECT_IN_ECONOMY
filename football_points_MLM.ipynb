{
 "cells": [
  {
   "cell_type": "markdown",
   "id": "afd37025",
   "metadata": {},
   "source": [
    "# Fantasy Football Point Machine Learning Model"
   ]
  },
  {
   "cell_type": "code",
   "execution_count": null,
   "id": "fb6aaf5f",
   "metadata": {},
   "outputs": [],
   "source": [
    "# initialize libraries\n",
    "import numpy as np\n",
    "import pandas as pd\n",
    "from pathlib import Path\n",
    "from sklearn.model_selection import train_test_split\n",
    "from sklearn.preprocessing import  LabelEncoder\n",
    "from sklearn.linear_model import LogisticRegression\n",
    "from sklearn.metrics import balanced_accuracy_score"
   ]
  },
  {
   "cell_type": "code",
   "execution_count": null,
   "id": "c4fe2dec",
   "metadata": {},
   "outputs": [],
   "source": [
    "# load in datafile\n",
    "passing_path = Path('')\n",
    "receiving_path = Path('')\n",
    "rushing_path = Path('')\n",
    "\n",
    "current_passing_path = Path('')\n",
    "current_receiving_path = Path('')\n",
    "current_rushing_path = Path('')\n",
    "\n",
    "passing_df = pd.read_csv(passing_path)\n",
    "receiving_df = pd.read_csv(receiving_path)\n",
    "rushing_df = pd.read_csv(rushing_path)\n",
    "\n",
    "current_passing_df = pd.read_csv(current_passing_path)\n",
    "current_receiving_df = pd.read_csv(current_receiving_path)\n",
    "current_rushing_df = pd.read_csv(current_rushing_path)"
   ]
  },
  {
   "cell_type": "code",
   "execution_count": null,
   "id": "e65ebe16",
   "metadata": {},
   "outputs": [],
   "source": [
    "# define function for logistic regression \n",
    "def log_reg(X_train, y_train)\n",
    "    model = LogisticRegression(solver='lbfgs')\n",
    "    model.fit(X_train, y_train)\n",
    "    return model"
   ]
  },
  {
   "cell_type": "code",
   "execution_count": null,
   "id": "6f6ed2d3",
   "metadata": {},
   "outputs": [],
   "source": [
    "# define function for balance accuracy score\n",
    "def bal_acc(model, X_test, y_test)\n",
    "    y_pred = model.predict(X_test)\n",
    "    print(balanced_accuracy_score(y_test, y_pred))"
   ]
  },
  {
   "cell_type": "code",
   "execution_count": null,
   "id": "8d1d5b0b",
   "metadata": {},
   "outputs": [],
   "source": [
    "# define X and y\n",
    "X_passing =\n",
    "y_passing =\n",
    "\n",
    "X_receiving =\n",
    "y_receiving =\n",
    "\n",
    "X_rushing =\n",
    "y_rushing =\n",
    "\n",
    "X_passing_current = \n",
    "X_receiving_current = \n",
    "X_rushing_current ="
   ]
  },
  {
   "cell_type": "code",
   "execution_count": null,
   "id": "a769a943",
   "metadata": {},
   "outputs": [],
   "source": [
    "# additional data transforms as necessary"
   ]
  },
  {
   "cell_type": "code",
   "execution_count": null,
   "id": "89e257bd",
   "metadata": {},
   "outputs": [],
   "source": [
    "# split train and test\n",
    "\n",
    "X_train_passing, X_test_passing, y_train_passing, y_test_passing = train_test_split(X_passing, y_passing)\n",
    "\n",
    "\n",
    "X_train_receiving, X_test_receiving, y_train_receiving, y_test_receiving = train_test_split(X_receiving, y_receiving)\n",
    "\n",
    "\n",
    "X_train_rushing, X_test_rushing, y_train_rushing, y_test_rushing = train_test_split(X_rushing, y_rushing)"
   ]
  },
  {
   "cell_type": "code",
   "execution_count": null,
   "id": "b0d85ec8",
   "metadata": {},
   "outputs": [],
   "source": [
    "# perform logistic regression on passing model\n",
    "passing_model = log_reg(X_train_passing, y_train_passing)\n",
    "bal_acc(passing_model, X_test_passing, y_test_passing)"
   ]
  },
  {
   "cell_type": "code",
   "execution_count": null,
   "id": "be16566d",
   "metadata": {},
   "outputs": [],
   "source": [
    "# perform logistic regression on receiving model\n",
    "receiving_model = log_reg(X_train_receiving, y_train_receiving)\n",
    "bal_acc(receiving_model, X_test_receiving, y_test_receiving)"
   ]
  },
  {
   "cell_type": "code",
   "execution_count": null,
   "id": "431c06c6",
   "metadata": {},
   "outputs": [],
   "source": [
    "# perform logistic regression on rushing model\n",
    "rushing_model = log_reg(X_train_rushing, y_train_rushing)\n",
    "bal_acc(rushing_model, X_test_rushing, y_test_rushing)"
   ]
  },
  {
   "cell_type": "code",
   "execution_count": null,
   "id": "ebb281d3",
   "metadata": {},
   "outputs": [],
   "source": [
    "# apply models to current stats\n",
    "y_passing_pred = passing_model.predict(X_passing_current)\n",
    "passing_pred_df = current_passing_df['player','pos']\n",
    "passing_pred_df['points predicted'] = y_passing_pred\n",
    "\n",
    "y_receiving_pred = receiving_model.predict(X_receiving_current)\n",
    "receiving_pred_df = current_receiving_df['player', 'pos']\n",
    "receiving_pred_df['points predicted'] = y_receiving_pred\n",
    "\n",
    "y_rushing_pred = rushing_model.predict(X_rushing_current)\n",
    "rushing_pred_df = current_rushing_df['player', 'pos']\n",
    "rushing_pred_df['points predicted'] = y_rushing_pred"
   ]
  },
  {
   "cell_type": "code",
   "execution_count": null,
   "id": "8ed58363",
   "metadata": {},
   "outputs": [],
   "source": [
    "# aggregate duplicates \n",
    "pred_df = pd.concat([passing_pred_df,receiving_pred_df,rushing_pred_df], ignore_index=True)\n",
    "\n",
    "pred_df = pred_df.groupby('player').agg({'points':'sum'}).reset_index()\n",
    "\n",
    "pred_df.head(10)\n"
   ]
  },
  {
   "cell_type": "code",
   "execution_count": null,
   "id": "a8e93b87",
   "metadata": {},
   "outputs": [],
   "source": [
    "# write output\n",
    "\n",
    "pred_df.to_csv('predictions.csv')"
   ]
  }
 ],
 "metadata": {
  "kernelspec": {
   "display_name": "Python 3 (ipykernel)",
   "language": "python",
   "name": "python3"
  },
  "language_info": {
   "codemirror_mode": {
    "name": "ipython",
    "version": 3
   },
   "file_extension": ".py",
   "mimetype": "text/x-python",
   "name": "python",
   "nbconvert_exporter": "python",
   "pygments_lexer": "ipython3",
   "version": "3.9.12"
  }
 },
 "nbformat": 4,
 "nbformat_minor": 5
}
