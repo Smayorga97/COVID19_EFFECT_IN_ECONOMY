{
 "cells": [
  {
   "cell_type": "markdown",
   "id": "afd37025",
   "metadata": {},
   "source": [
    "# Fantasy Football Point Machine Learning Model"
   ]
  },
  {
   "cell_type": "code",
   "execution_count": null,
   "id": "fb6aaf5f",
   "metadata": {},
   "outputs": [],
   "source": [
    "# initialize libraries\n",
    "import numpy as np\n",
    "import pandas as pd\n",
    "from pathlib import Path\n",
    "from sklearn.model_selection import train_test_split\n",
    "from sklearn.preprocessing import  LabelEncoder\n",
    "from sklearn.linear_model import LogisticRegression\n",
    "from sklearn.metrics import balanced_accuracy_score"
   ]
  },
  {
   "cell_type": "code",
   "execution_count": null,
   "id": "c4fe2dec",
   "metadata": {},
   "outputs": [],
   "source": [
    "# load in datafile\n",
    "passing_path = Path('')\n",
    "receiving_path = Path('')\n",
    "rushing_path = Path('')\n",
    "\n",
    "current_passing_path = Path('')\n",
    "current_receiving_path = Path('')\n",
    "current_rushing_path = Path('')\n",
    "\n",
    "passing_df = pd.read_csv(passing_path)\n",
    "receiving_df = pd.read_csv(receiving_path)\n",
    "rushing_df = pd.read_csv(rushing_path)\n",
    "\n",
    "current_passing_df = pd.read_csv(current_passing_path)\n",
    "current_receiving_df = pd.read_csv(current_receiving_path)\n",
    "current_rushing_df = pd.read_csv(current_rushing_path)"
   ]
  },
  {
   "cell_type": "code",
   "execution_count": null,
   "id": "e028a12c",
   "metadata": {},
   "outputs": [],
   "source": [
    "# define function for logistic regression \n",
    "def log_reg(X_train, y_train)\n",
    "    model = LogisticRegression(solver='lbfgs')\n",
    "    model.fit(X_train, y_train)\n",
    "    return model"
   ]
  },
  {
   "cell_type": "code",
   "execution_count": null,
   "id": "14092c3b",
   "metadata": {},
   "outputs": [],
   "source": [
    "# define function for balance accuracy score\n",
    "def bal_acc(model, X_test, y_test)\n",
    "    y_pred = model.predict(X_test)\n",
    "    print(balanced_accuracy_score(y_test, y_pred))"
   ]
  },
  {
   "cell_type": "code",
   "execution_count": null,
   "id": "4c815f98",
   "metadata": {},
   "outputs": [],
   "source": []
  }
 ],
 "metadata": {
  "kernelspec": {
   "display_name": "Python 3 (ipykernel)",
   "language": "python",
   "name": "python3"
  },
  "language_info": {
   "codemirror_mode": {
    "name": "ipython",
    "version": 3
   },
   "file_extension": ".py",
   "mimetype": "text/x-python",
   "name": "python",
   "nbconvert_exporter": "python",
   "pygments_lexer": "ipython3",
   "version": "3.9.12"
  }
 },
 "nbformat": 4,
 "nbformat_minor": 5
}
