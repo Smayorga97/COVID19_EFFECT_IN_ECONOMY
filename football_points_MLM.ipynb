{
 "cells": [
  {
   "cell_type": "markdown",
   "id": "afd37025",
   "metadata": {},
   "source": [
    "# Fantasy Football Point Machine Learning Model"
   ]
  },
  {
   "cell_type": "code",
   "execution_count": null,
   "id": "fb6aaf5f",
   "metadata": {},
   "outputs": [],
   "source": [
    "# initialize libraries"
   ]
  },
  {
   "cell_type": "code",
   "execution_count": null,
   "id": "c4fe2dec",
   "metadata": {},
   "outputs": [],
   "source": [
    "# load in datafile"
   ]
  }
 ],
 "metadata": {
  "kernelspec": {
   "display_name": "Python 3 (ipykernel)",
   "language": "python",
   "name": "python3"
  },
  "language_info": {
   "codemirror_mode": {
    "name": "ipython",
    "version": 3
   },
   "file_extension": ".py",
   "mimetype": "text/x-python",
   "name": "python",
   "nbconvert_exporter": "python",
   "pygments_lexer": "ipython3",
   "version": "3.9.12"
  }
 },
 "nbformat": 4,
 "nbformat_minor": 5
}
